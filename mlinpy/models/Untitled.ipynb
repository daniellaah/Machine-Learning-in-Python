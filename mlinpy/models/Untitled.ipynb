{
 "cells": [
  {
   "cell_type": "code",
   "execution_count": 49,
   "metadata": {
    "collapsed": true
   },
   "outputs": [],
   "source": [
    "import numpy as np\n",
    "from operator import itemgetter"
   ]
  },
  {
   "cell_type": "code",
   "execution_count": 50,
   "metadata": {
    "collapsed": true
   },
   "outputs": [],
   "source": [
    "def euclidean(a, b):\n",
    "    return np.sqrt(np.sum(np.square(a-b)))"
   ]
  },
  {
   "cell_type": "code",
   "execution_count": 51,
   "metadata": {
    "collapsed": false
   },
   "outputs": [],
   "source": [
    "class KDNode():\n",
    "    def __init__(self, split, sample, parent, left, right):\n",
    "        self.split = split\n",
    "        self.sample = sample\n",
    "        self.parent = parent\n",
    "        self.left = left\n",
    "        self.right = right\n",
    "    \n",
    "    def is_root(self):\n",
    "        return not self.parent\n",
    "    \n",
    "    def is_leaf(self):\n",
    "        return not (self.left or self.right)\n",
    "        \n",
    "    def is_left(self):\n",
    "        return self.parent and self.parent.left is self\n",
    "\n",
    "    def is_right(self):\n",
    "        return self.parent and self.parent.right is self\n",
    "\n",
    "    def get_sibling(self):\n",
    "        if self.parent and self.parent.left is self:\n",
    "            return self.parent.right\n",
    "        elif self.parent and self.parent.right is self:\n",
    "            return self.parent.left"
   ]
  },
  {
   "cell_type": "code",
   "execution_count": 52,
   "metadata": {
    "collapsed": true
   },
   "outputs": [],
   "source": [
    "def create_kd_tree(data):\n",
    "    if data is None or data.shape[0] == 0 or data.shape[1] == 0:\n",
    "        return None\n",
    "    split = np.argmax(np.var(data, axis=0))\n",
    "    data = np.array(sorted(data, key=lambda x: x[split]))\n",
    "    head_index = len(data) // 2\n",
    "    left = create_kd_tree(data[:head_index])\n",
    "    right = create_kd_tree(data[head_index+1:])\n",
    "    head = KDNode(split, data[head_index], None, left, right)\n",
    "    if left:\n",
    "        left.parent = head\n",
    "    if right:\n",
    "        right.parent = head\n",
    "    return head"
   ]
  },
  {
   "cell_type": "code",
   "execution_count": 99,
   "metadata": {
    "collapsed": true
   },
   "outputs": [],
   "source": [
    "def find_nearest(kd_tree, target):\n",
    "    if len(kd_tree.sample) != len(target):\n",
    "        raise ValueError('dim not match!')\n",
    "    if not kd_tree or target is None:\n",
    "        return -1\n",
    "    head = kd_tree\n",
    "    while not head.is_leaf():\n",
    "        if target[head.split] <= head.sample[head.split]:\n",
    "            head = head.left\n",
    "        else:\n",
    "            head = head.right\n",
    "    curr_node = head\n",
    "    curr_dis = euclidean(target, curr_node.sample)\n",
    "    while not head.is_root(): \n",
    "        if np.abs(head.parent.sample[head.split] - target[head.parent.split]) < curr_dis:\n",
    "            sbiling = head.get_sibling()\n",
    "            if sbiling:\n",
    "                dis = euclidean(target, sbiling.sample)\n",
    "                if dis < curr_dis:\n",
    "                    curr_node = sbiling\n",
    "                    curr_dis = dis\n",
    "            dis = euclidean(target, head.parent.sample)\n",
    "            if dis < curr_dis:\n",
    "                curr_node = head.parent\n",
    "                curr_dis = dis\n",
    "        head = head.parent\n",
    "    return curr_node"
   ]
  },
  {
   "cell_type": "code",
   "execution_count": 113,
   "metadata": {
    "collapsed": true
   },
   "outputs": [],
   "source": [
    "from time import time"
   ]
  },
  {
   "cell_type": "code",
   "execution_count": 121,
   "metadata": {
    "collapsed": false
   },
   "outputs": [],
   "source": [
    "data = np.random.randn(1000000, 100)"
   ]
  },
  {
   "cell_type": "code",
   "execution_count": 122,
   "metadata": {
    "collapsed": false
   },
   "outputs": [
    {
     "name": "stdout",
     "output_type": "stream",
     "text": [
      "107.47628879547119\n"
     ]
    }
   ],
   "source": [
    "start = time()\n",
    "kdtree = create_kd_tree(data)\n",
    "print(time()-start)"
   ]
  },
  {
   "cell_type": "code",
   "execution_count": 123,
   "metadata": {
    "collapsed": false
   },
   "outputs": [
    {
     "name": "stdout",
     "output_type": "stream",
     "text": [
      "0.019930124282836914\n"
     ]
    },
    {
     "data": {
      "text/plain": [
       "array([-0.56049827, -1.77639888,  0.83050868, -1.02105641, -1.19375309,\n",
       "       -0.2280448 , -1.94537018,  0.78539984, -0.80579798, -0.74345352,\n",
       "       -0.05623168, -0.83911542, -1.84112504, -1.0023634 ,  0.6602706 ,\n",
       "       -0.3654255 ,  1.81669523,  0.5323542 , -1.6162134 , -0.4957659 ,\n",
       "        2.59221906,  0.18844354,  0.28398069,  0.54893566, -1.06128046,\n",
       "        0.3568645 ,  0.21530722, -0.99837141,  0.52801384, -0.14903611,\n",
       "        0.58808552,  0.41907573, -0.44009569, -1.78553887, -0.41225327,\n",
       "        0.39835787,  0.71154818, -0.2332933 , -0.09840185, -1.12056705,\n",
       "        0.41064583,  0.78216058,  1.58941708,  1.69764421, -1.14925329,\n",
       "        1.02655942, -0.99259864, -1.03153328,  2.26730468, -0.9296867 ,\n",
       "        1.26807766,  0.85190048, -0.9050304 , -0.16492928,  0.30493217,\n",
       "        0.42288897,  1.44158378, -0.04736664,  1.3579324 ,  0.57138329,\n",
       "        1.18463809,  0.69940215,  0.50192297,  0.60986733, -0.88743104,\n",
       "        1.55667818, -0.78796919, -0.35689132,  0.95136294,  0.75554787,\n",
       "        1.28938072, -0.44885847, -0.23989042,  0.32485978, -0.82254919,\n",
       "       -0.75264149, -1.88014861,  0.16331196, -0.60860844, -0.69389081,\n",
       "        0.18606387,  0.22913863,  0.67664254,  0.42697438, -0.93328821,\n",
       "       -0.21947894,  0.36515391, -0.48914222,  0.44581392,  1.16254532,\n",
       "       -0.68970529, -0.14663447, -0.34463235,  1.40057587,  0.40854523,\n",
       "       -0.06570982, -0.96378988,  0.14328645,  1.34103489, -0.45927195])"
      ]
     },
     "execution_count": 123,
     "metadata": {},
     "output_type": "execute_result"
    }
   ],
   "source": [
    "start = time()\n",
    "x = find_nearest(kdtree, np.random.randn(100,)).sample\n",
    "print(time()-start)\n",
    "x"
   ]
  },
  {
   "cell_type": "code",
   "execution_count": 108,
   "metadata": {
    "collapsed": false
   },
   "outputs": [
    {
     "ename": "NameError",
     "evalue": "name 'a' is not defined",
     "output_type": "error",
     "traceback": [
      "\u001b[0;31m---------------------------------------------------------------------------\u001b[0m",
      "\u001b[0;31mNameError\u001b[0m                                 Traceback (most recent call last)",
      "\u001b[0;32m<ipython-input-108-60b725f10c9c>\u001b[0m in \u001b[0;36m<module>\u001b[0;34m()\u001b[0m\n\u001b[0;32m----> 1\u001b[0;31m \u001b[0ma\u001b[0m\u001b[0;34m\u001b[0m\u001b[0m\n\u001b[0m",
      "\u001b[0;31mNameError\u001b[0m: name 'a' is not defined"
     ]
    }
   ],
   "source": [
    "a"
   ]
  },
  {
   "cell_type": "code",
   "execution_count": null,
   "metadata": {
    "collapsed": true
   },
   "outputs": [],
   "source": []
  }
 ],
 "metadata": {
  "anaconda-cloud": {},
  "kernelspec": {
   "display_name": "Python [conda env:Python3.5]",
   "language": "python",
   "name": "conda-env-Python3.5-py"
  },
  "language_info": {
   "codemirror_mode": {
    "name": "ipython",
    "version": 3
   },
   "file_extension": ".py",
   "mimetype": "text/x-python",
   "name": "python",
   "nbconvert_exporter": "python",
   "pygments_lexer": "ipython3",
   "version": "3.5.2"
  }
 },
 "nbformat": 4,
 "nbformat_minor": 1
}
