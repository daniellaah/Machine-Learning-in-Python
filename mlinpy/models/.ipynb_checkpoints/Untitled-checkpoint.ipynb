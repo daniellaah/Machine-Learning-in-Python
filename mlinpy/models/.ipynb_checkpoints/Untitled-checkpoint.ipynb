{
 "cells": [
  {
   "cell_type": "code",
   "execution_count": 49,
   "metadata": {
    "collapsed": true
   },
   "outputs": [],
   "source": [
    "import numpy as np\n",
    "from operator import itemgetter"
   ]
  },
  {
   "cell_type": "code",
   "execution_count": 50,
   "metadata": {
    "collapsed": true
   },
   "outputs": [],
   "source": [
    "def euclidean(a, b):\n",
    "    return np.sqrt(np.sum(np.square(a-b)))"
   ]
  },
  {
   "cell_type": "code",
   "execution_count": 51,
   "metadata": {
    "collapsed": false
   },
   "outputs": [],
   "source": [
    "class KDNode():\n",
    "    def __init__(self, split, sample, parent, left, right):\n",
    "        self.split = split\n",
    "        self.sample = sample\n",
    "        self.parent = parent\n",
    "        self.left = left\n",
    "        self.right = right\n",
    "    \n",
    "    def is_root(self):\n",
    "        return not self.parent\n",
    "    \n",
    "    def is_leaf(self):\n",
    "        return not (self.left or self.right)\n",
    "        \n",
    "    def is_left(self):\n",
    "        return self.parent and self.parent.left is self\n",
    "\n",
    "    def is_right(self):\n",
    "        return self.parent and self.parent.right is self\n",
    "\n",
    "    def get_sibling(self):\n",
    "        if self.parent and self.parent.left is self:\n",
    "            return self.parent.right\n",
    "        elif self.parent and self.parent.right is self:\n",
    "            return self.parent.left"
   ]
  },
  {
   "cell_type": "code",
   "execution_count": 52,
   "metadata": {
    "collapsed": true
   },
   "outputs": [],
   "source": [
    "def create_kd_tree(data):\n",
    "    if data is None or data.shape[0] == 0 or data.shape[1] == 0:\n",
    "        return None\n",
    "    split = np.argmax(np.var(data, axis=0))\n",
    "    data = np.array(sorted(data, key=lambda x: x[split]))\n",
    "    head_index = len(data) // 2\n",
    "    left = create_kd_tree(data[:head_index])\n",
    "    right = create_kd_tree(data[head_index+1:])\n",
    "    head = KDNode(split, data[head_index], None, left, right)\n",
    "    if left:\n",
    "        left.parent = head\n",
    "    if right:\n",
    "        right.parent = head\n",
    "    return head"
   ]
  },
  {
   "cell_type": "code",
   "execution_count": 67,
   "metadata": {
    "collapsed": true
   },
   "outputs": [],
   "source": [
    "def find_nearest(kd_tree, target):\n",
    "    if not kd_tree or not target:\n",
    "        return -1\n",
    "    head = kd_tree\n",
    "    while not head.is_leaf():\n",
    "        if target[head.split] <= head.sample[head.split]:\n",
    "            head = head.left\n",
    "        else:\n",
    "            head = head.right\n",
    "    curr_node = head\n",
    "    curr_dis = euclidean(target, curr_node.sample)\n",
    "    while not head.is_root(): \n",
    "        if np.abs(head.parent.sample[head.split] - target[head.parent.split]) < curr_dis:\n",
    "            sbiling = head.get_sibling()\n",
    "            if sbiling:\n",
    "                dis = euclidean(target, sbiling.sample)\n",
    "                if dis < curr_dis:\n",
    "                    curr_node = sbiling\n",
    "                    curr_dis = dis\n",
    "            dis = euclidean(target, head.parent.sample)\n",
    "            if dis < curr_dis:\n",
    "                curr_node = head.parent\n",
    "                curr_dis = dis\n",
    "        head = head.parent\n",
    "    return curr_node"
   ]
  },
  {
   "cell_type": "code",
   "execution_count": 53,
   "metadata": {
    "collapsed": false
   },
   "outputs": [],
   "source": [
    "data = np.array([[2,3], [5,4], [9,6], [4,7], [8,1], [7,2]])"
   ]
  },
  {
   "cell_type": "code",
   "execution_count": 54,
   "metadata": {
    "collapsed": false
   },
   "outputs": [],
   "source": [
    "kdtree = create_kd_tree(data)"
   ]
  },
  {
   "cell_type": "code",
   "execution_count": 79,
   "metadata": {
    "collapsed": false
   },
   "outputs": [
    {
     "data": {
      "text/plain": [
       "array([4, 7])"
      ]
     },
     "execution_count": 79,
     "metadata": {},
     "output_type": "execute_result"
    }
   ],
   "source": [
    "find_nearest(kdtree, [3, 7.1]).sample"
   ]
  },
  {
   "cell_type": "code",
   "execution_count": null,
   "metadata": {
    "collapsed": true
   },
   "outputs": [],
   "source": []
  }
 ],
 "metadata": {
  "anaconda-cloud": {},
  "kernelspec": {
   "display_name": "Python [conda env:Python3.5]",
   "language": "python",
   "name": "conda-env-Python3.5-py"
  },
  "language_info": {
   "codemirror_mode": {
    "name": "ipython",
    "version": 3
   },
   "file_extension": ".py",
   "mimetype": "text/x-python",
   "name": "python",
   "nbconvert_exporter": "python",
   "pygments_lexer": "ipython3",
   "version": "3.5.2"
  }
 },
 "nbformat": 4,
 "nbformat_minor": 1
}
